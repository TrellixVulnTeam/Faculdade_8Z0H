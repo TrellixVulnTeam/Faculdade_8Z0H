{
  "nbformat": 4,
  "nbformat_minor": 0,
  "metadata": {
    "colab": {
      "name": "pytonFudido.ipynb",
      "provenance": [],
      "collapsed_sections": [],
      "authorship_tag": "ABX9TyOFeOcBhK9l6bL7Wm+s+vlz",
      "include_colab_link": true
    },
    "kernelspec": {
      "name": "python3",
      "display_name": "Python 3"
    },
    "language_info": {
      "name": "python"
    }
  },
  "cells": [
    {
      "cell_type": "markdown",
      "metadata": {
        "id": "view-in-github",
        "colab_type": "text"
      },
      "source": [
        "<a href=\"https://colab.research.google.com/github/cadu088/Faculdade/blob/main/pytonFudido.ipynb\" target=\"_parent\"><img src=\"https://colab.research.google.com/assets/colab-badge.svg\" alt=\"Open In Colab\"/></a>"
      ]
    },
    {
      "cell_type": "code",
      "execution_count": 21,
      "metadata": {
        "colab": {
          "base_uri": "https://localhost:8080/"
        },
        "id": "JHzvNBOhoOHM",
        "outputId": "ad1e4fb0-95a1-4cf2-a1aa-1c4c82f7ab48"
      },
      "outputs": [
        {
          "output_type": "stream",
          "name": "stdout",
          "text": [
            "Digits Gaussian:  0.8164983164983165\n",
            "Digits Linear:  0.9377104377104377\n",
            "======================================\n",
            "Vinho Gaussian:  0.9661016949152542\n",
            "Vinho Linear:  0.8983050847457628\n"
          ]
        },
        {
          "output_type": "stream",
          "name": "stderr",
          "text": [
            "/usr/local/lib/python3.7/dist-packages/sklearn/svm/_base.py:1208: ConvergenceWarning: Liblinear failed to converge, increase the number of iterations.\n",
            "  ConvergenceWarning,\n",
            "/usr/local/lib/python3.7/dist-packages/sklearn/svm/_base.py:1208: ConvergenceWarning: Liblinear failed to converge, increase the number of iterations.\n",
            "  ConvergenceWarning,\n"
          ]
        }
      ],
      "source": [
        "from sklearn.model_selection import train_test_split\n",
        "from sklearn.naive_bayes import GaussianNB\n",
        "from sklearn.metrics import accuracy_score\n",
        "from sklearn.datasets import load_wine\n",
        "from sklearn.datasets import load_digits\n",
        "from sklearn.svm import LinearSVC\n",
        "\n",
        "# Carregar o dataset\n",
        "digits = load_digits()\n",
        "X, y = load_wine(return_X_y=True)\n",
        "\n",
        "# Organizar os dados\n",
        "label_names = digits['target_names']\n",
        "labels = digits['target']\n",
        "feature_names = digits['feature_names']\n",
        "features = digits['data']\n",
        "\n",
        "y = y == 2\n",
        "\n",
        "# Dividir dados\n",
        "X_train, X_test, y_train, y_test = train_test_split(X, \n",
        "                                                    y, \n",
        "                                                    test_size=0.33,\n",
        "                                                    random_state=42)\n",
        "\n",
        "train, test, train_labels, test_labels = train_test_split(features,\n",
        "                                                          labels,\n",
        "                                                          test_size=0.33,\n",
        "                                                          random_state=42)\n",
        "\n",
        "# Inicializar o classificador\n",
        "gnb = GaussianNB()\n",
        "wine = GaussianNB()\n",
        "\n",
        "svm = LinearSVC(random_state=42, tol=0.1)\n",
        "svmWine = LinearSVC(random_state=42, tol=0.1)\n",
        "\n",
        "# Treinar o classificador\n",
        "model = gnb.fit(train, train_labels)\n",
        "model_Wine = wine.fit(X_train, y_train)\n",
        "\n",
        "modelLinear = svm.fit(train, train_labels)\n",
        "modelLinear_Wine = svmWine.fit(X_train, y_train)\n",
        "\n",
        "# Fazer previsões\n",
        "predictGaussianDigits = gnb.predict(test)\n",
        "predictGaussianWine = wine.predict(X_test)\n",
        "\n",
        "predictLinearDigits = svm.predict(test)\n",
        "predictLinearWine = svmWine.predict(X_test)\n",
        "\n",
        "# Avaliar a precisão\n",
        "print(\"Digits Gaussian: \",accuracy_score(test_labels, predictGaussianDigits))\n",
        "print(\"Digits Linear: \",accuracy_score(test_labels, predictLinearDigits))\n",
        "print(\"======================================\")\n",
        "print(\"Vinho Gaussian: \",accuracy_score(y_test, predictGaussianWine))\n",
        "print(\"Vinho Linear: \",accuracy_score(y_test, predictLinearWine))\n"
      ]
    }
  ]
}